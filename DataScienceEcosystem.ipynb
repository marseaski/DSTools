{
 "cells": [
  {
   "cell_type": "markdown",
   "id": "dbd747c8-cccb-469d-bdc1-dc1a276cb0e6",
   "metadata": {},
   "source": [
    "# Data Science Tools and Ecosystem"
   ]
  },
  {
   "cell_type": "markdown",
   "id": "5e904d51-955d-4ef1-ba71-5f7dea859e57",
   "metadata": {},
   "source": [
    "In this notebook, Data Science Tools and Ecosystem are summarized.\r\n"
   ]
  },
  {
   "cell_type": "markdown",
   "id": "d117bf6f-5fca-4a89-ad13-35f341c3ca01",
   "metadata": {},
   "source": [
    "Some of the popular languages that Data Scientists use are:\n",
    "1. Python\n",
    "2. Java\n",
    "3. R"
   ]
  },
  {
   "cell_type": "markdown",
   "id": "9c11002d-fb94-43a9-8a75-be4741df21c5",
   "metadata": {},
   "source": [
    "Some of the commonly used libraries used by Data Scientists include:\n",
    "1. Numpy\n",
    "2. Pandas\n",
    "3. TensorFlow"
   ]
  },
  {
   "cell_type": "markdown",
   "id": "229ffed5-d653-4d68-8aef-a532260fd71b",
   "metadata": {},
   "source": [
    "# Objectives:\n",
    "\n",
    "* Written down the DS tools and languages\n",
    "* Performed basic arithmetic operations\n",
    "* Used different mheadings in markdown"
   ]
  },
  {
   "cell_type": "markdown",
   "id": "9095810e-8ad2-435b-ae95-9185da5762dc",
   "metadata": {},
   "source": [
    "## Development Environment Tools for Data Science\n",
    "\n",
    "|Data Science Tools       |\n",
    "|:------------------------|\n",
    "|Jupyter Notebook         |\n",
    "|RStudio                  |\n",
    "|VSCode (with extensions) |\n"
   ]
  },
  {
   "cell_type": "markdown",
   "id": "2bb4b633-b7ac-4eb1-986b-3a852cb26b3f",
   "metadata": {},
   "source": [
    "### Below are a few examples of evaluating arithmetic expressions in Python."
   ]
  },
  {
   "cell_type": "code",
   "execution_count": 3,
   "id": "641e4f92-9ca4-49e7-a829-cdeb46b5f8e7",
   "metadata": {},
   "outputs": [
    {
     "data": {
      "text/plain": [
       "17"
      ]
     },
     "execution_count": 3,
     "metadata": {},
     "output_type": "execute_result"
    }
   ],
   "source": [
    "# This a simple arithmetic expression to mutiply then add integers\n",
    "output = (3*4)+5\n",
    "output"
   ]
  },
  {
   "cell_type": "code",
   "execution_count": 4,
   "id": "a8ce4601-7f91-4170-a28f-b6d11466dc9a",
   "metadata": {},
   "outputs": [
    {
     "data": {
      "text/plain": [
       "3.3333333333333335"
      ]
     },
     "execution_count": 4,
     "metadata": {},
     "output_type": "execute_result"
    }
   ],
   "source": [
    "# This will convert 200 minutes to hours by diving by 60\n",
    "minutes = 200\n",
    "hours = minutes/60\n",
    "hours\n"
   ]
  },
  {
   "cell_type": "markdown",
   "id": "e4396310-785c-4236-a496-b44ddb680e84",
   "metadata": {},
   "source": [
    "## Mazhar H (author)"
   ]
  },
  {
   "cell_type": "code",
   "execution_count": null,
   "id": "5eb89710-8a21-4346-8823-b01901a02803",
   "metadata": {},
   "outputs": [],
   "source": []
  }
 ],
 "metadata": {
  "kernelspec": {
   "display_name": "Python 3 (ipykernel)",
   "language": "python",
   "name": "python3"
  },
  "language_info": {
   "codemirror_mode": {
    "name": "ipython",
    "version": 3
   },
   "file_extension": ".py",
   "mimetype": "text/x-python",
   "name": "python",
   "nbconvert_exporter": "python",
   "pygments_lexer": "ipython3",
   "version": "3.12.4"
  }
 },
 "nbformat": 4,
 "nbformat_minor": 5
}
